{
 "cells": [
  {
   "cell_type": "markdown",
   "metadata": {},
   "source": [
    "# Аппроксимация функции"
   ]
  },
  {
   "cell_type": "markdown",
   "metadata": {},
   "source": [
    "$$ f(x) = sin(x / 5) * exp(x / 10) + 5 * exp(-x / 2) $$"
   ]
  },
  {
   "cell_type": "code",
   "execution_count": 1,
   "metadata": {},
   "outputs": [],
   "source": [
    "import numpy as np\n",
    "import scipy\n",
    "from scipy import linalg\n",
    "import matplotlib.pyplot as plt"
   ]
  },
  {
   "cell_type": "code",
   "execution_count": 2,
   "metadata": {},
   "outputs": [],
   "source": [
    "# исходная функция, вычисление значений\n",
    "def our_func(x):\n",
    "    return (np.sin(x/5.0))*(np.exp(x/10.0)) + 5*(np.exp(-x/2.0))"
   ]
  },
  {
   "cell_type": "markdown",
   "metadata": {},
   "source": [
    " ## система линейных уравнений для многочлена первой степени"
   ]
  },
  {
   "cell_type": "code",
   "execution_count": 3,
   "metadata": {},
   "outputs": [],
   "source": [
    "val_1 = our_func(1)\n",
    "val_2 = our_func(15)"
   ]
  },
  {
   "cell_type": "code",
   "execution_count": 4,
   "metadata": {},
   "outputs": [
    {
     "name": "stdout",
     "output_type": "stream",
     "text": [
      "3.252216865271419 0.6352214195786656\n"
     ]
    }
   ],
   "source": [
    "print val_1, val_2"
   ]
  },
  {
   "cell_type": "markdown",
   "metadata": {},
   "source": [
    "$$ w0 + w1 = 3.252216865271419 $$\n",
    "$$ w0 + 15*w1 = 0.6352214195786656$$"
   ]
  },
  {
   "cell_type": "code",
   "execution_count": 5,
   "metadata": {},
   "outputs": [
    {
     "name": "stdout",
     "output_type": "stream",
     "text": [
      "Матрица A:\n",
      "[[ 1  1]\n",
      " [ 1 15]]\n",
      "Вектор b:\n",
      "[3.25221687 0.63522142]\n"
     ]
    }
   ],
   "source": [
    "a = np.array([[1,1],[1,15]])\n",
    "b = np.array([val_1, val_2])\n",
    "print \"Матрица A:\\n\", a\n",
    "print \"Вектор b:\\n\", b"
   ]
  },
  {
   "cell_type": "code",
   "execution_count": 6,
   "metadata": {},
   "outputs": [
    {
     "name": "stdout",
     "output_type": "stream",
     "text": [
      "Решение системы:\n",
      "[ 3.43914511 -0.18692825]\n"
     ]
    }
   ],
   "source": [
    "w1 = scipy.linalg.solve(a, b)\n",
    "print \"Решение системы:\\n\", w1"
   ]
  },
  {
   "cell_type": "markdown",
   "metadata": {},
   "source": [
    "#### полученный многочлен"
   ]
  },
  {
   "cell_type": "markdown",
   "metadata": {},
   "source": [
    "$$ f(x) = 3.43914511 - 0.18692825(x) $$"
   ]
  },
  {
   "cell_type": "code",
   "execution_count": 7,
   "metadata": {},
   "outputs": [],
   "source": [
    "fa_1 = lambda x: w1[0] + w1[1] * x"
   ]
  },
  {
   "cell_type": "markdown",
   "metadata": {},
   "source": [
    "#### Графики исходной и полученой функций"
   ]
  },
  {
   "cell_type": "code",
   "execution_count": 8,
   "metadata": {},
   "outputs": [
    {
     "data": {
      "image/png": "[encoded data removed]",
      "text/plain": [
       "<Figure size 432x288 with 1 Axes>"
      ]
     },
     "metadata": {
      "needs_background": "light"
     },
     "output_type": "display_data"
    }
   ],
   "source": [
    "fig = plt.subplots()\n",
    "x = np.linspace(0, 16, 100)\n",
    "plt.plot(x, fa_1(x))\n",
    "plt.plot(x, our_func(x))\n",
    "plt.show()"
   ]
  },
  {
   "cell_type": "markdown",
   "metadata": {},
   "source": [
    " ## система линейных уравнений для многочлена второй степени"
   ]
  },
  {
   "cell_type": "code",
   "execution_count": 9,
   "metadata": {},
   "outputs": [],
   "source": [
    "val_21 = our_func(1)\n",
    "val_22 = our_func(8)\n",
    "val_23 = our_func(15)"
   ]
  },
  {
   "cell_type": "code",
   "execution_count": 10,
   "metadata": {},
   "outputs": [
    {
     "name": "stdout",
     "output_type": "stream",
     "text": [
      "3.252216865271419 2.316170159053224 0.6352214195786656\n"
     ]
    }
   ],
   "source": [
    "print val_21, val_22, val_23"
   ]
  },
  {
   "cell_type": "markdown",
   "metadata": {},
   "source": [
    "$$ w0 + w1 + w2 = 3.252216865271419 $$\n",
    "$$ w0 + 8*w1 + 64*w2 = 2.316170159053224$$\n",
    "$$ w0 + 15*w1 + 225*w2 = 0.6352214195786656$$"
   ]
  },
  {
   "cell_type": "code",
   "execution_count": 11,
   "metadata": {},
   "outputs": [
    {
     "name": "stdout",
     "output_type": "stream",
     "text": [
      "Матрица A:\n",
      "[[  1   1   1]\n",
      " [  1   8  64]\n",
      " [  1  15 225]]\n",
      "Вектор b:\n",
      "[3.25221687 2.31617016 0.63522142]\n"
     ]
    }
   ],
   "source": [
    "a = np.array([[1,1,1],[1,8,64],[1,15,225]])\n",
    "b = np.array([val_21, val_22, val_23])\n",
    "print \"Матрица A:\\n\", a\n",
    "print \"Вектор b:\\n\", b"
   ]
  },
  {
   "cell_type": "code",
   "execution_count": 12,
   "metadata": {},
   "outputs": [
    {
     "name": "stdout",
     "output_type": "stream",
     "text": [
      "Решение системы:\n",
      "[ 3.32512949 -0.06531159 -0.00760104]\n"
     ]
    }
   ],
   "source": [
    "w2 = scipy.linalg.solve(a, b)\n",
    "print \"Решение системы:\\n\", w2"
   ]
  },
  {
   "cell_type": "markdown",
   "metadata": {},
   "source": [
    "#### полученный многочлен"
   ]
  },
  {
   "cell_type": "markdown",
   "metadata": {},
   "source": [
    "$$ f(x) = 3.32512949 - 0.06531159(x) -  0.00760104(x*x)$$"
   ]
  },
  {
   "cell_type": "code",
   "execution_count": 13,
   "metadata": {},
   "outputs": [],
   "source": [
    "fa_2 = lambda x: w2[0] + w2[1] * x + w2[2]*x*x"
   ]
  },
  {
   "cell_type": "code",
   "execution_count": 14,
   "metadata": {
    "scrolled": true
   },
   "outputs": [
    {
     "data": {
      "image/png": "[encoded data removed]",
      "text/plain": [
       "<Figure size 432x288 with 1 Axes>"
      ]
     },
     "metadata": {
      "needs_background": "light"
     },
     "output_type": "display_data"
    }
   ],
   "source": [
    "fig = plt.subplots()\n",
    "x = np.linspace(0, 16, 100)\n",
    "plt.plot(x, fa_2(x))\n",
    "plt.plot(x, our_func(x))\n",
    "plt.show()"
   ]
  },
  {
   "cell_type": "markdown",
   "metadata": {},
   "source": [
    " ## система линейных уравнений для многочлена третьей степени"
   ]
  },
  {
   "cell_type": "code",
   "execution_count": 15,
   "metadata": {},
   "outputs": [],
   "source": [
    "val_31 = our_func(1)\n",
    "val_32 = our_func(4)\n",
    "val_33 = our_func(10)\n",
    "val_34 = our_func(15)"
   ]
  },
  {
   "cell_type": "code",
   "execution_count": 16,
   "metadata": {},
   "outputs": [
    {
     "name": "stdout",
     "output_type": "stream",
     "text": [
      "3.252216865271419 1.7468459495903677 2.5054164070002463 0.6352214195786656\n"
     ]
    }
   ],
   "source": [
    "print val_31, val_32, val_33, val_34"
   ]
  },
  {
   "cell_type": "markdown",
   "metadata": {},
   "source": [
    "$$ w0 + w1 + w2 + w3 = 3.252216865271419 $$\n",
    "$$ w0 + 4*w1 + 16*w2 + 64*w3 = 1.7468459495903677$$\n",
    "$$ w0 + 10*w1 + 100*w2 + 1000*w3 = 2.5054164070002463$$\n",
    "$$ w0 + 15*w1 + 225*w2 + 3375*w3 = 0.6352214195786656$$"
   ]
  },
  {
   "cell_type": "code",
   "execution_count": 17,
   "metadata": {},
   "outputs": [
    {
     "name": "stdout",
     "output_type": "stream",
     "text": [
      "Матрица A:\n",
      "[[   1    1    1    1]\n",
      " [   1    4   16   64]\n",
      " [   1   10  100 1000]\n",
      " [   1   15  225 3375]]\n",
      "Вектор b:\n",
      "[3.25221687 1.74684595 2.50541641 0.63522142]\n"
     ]
    }
   ],
   "source": [
    "a = np.array([[1,1,1,1],[1,4,16,64],[1,10,100,1000],[1,15,225,3375]])\n",
    "b = np.array([val_31, val_32, val_33, val_34])\n",
    "print \"Матрица A:\\n\", a\n",
    "print \"Вектор b:\\n\", b"
   ]
  },
  {
   "cell_type": "code",
   "execution_count": 18,
   "metadata": {},
   "outputs": [
    {
     "name": "stdout",
     "output_type": "stream",
     "text": [
      "Решение системы:\n",
      "[ 4.36264154 -1.29552587  0.19333685 -0.00823565]\n"
     ]
    }
   ],
   "source": [
    "w3 = scipy.linalg.solve(a, b)\n",
    "print \"Решение системы:\\n\", w3"
   ]
  },
  {
   "cell_type": "markdown",
   "metadata": {},
   "source": [
    "#### полученный многочлен"
   ]
  },
  {
   "cell_type": "markdown",
   "metadata": {},
   "source": [
    "$$ f(x) = 4.36264154 - 1.29552587(x) +  0.19333685(x*x) - 0.00823565(x*x*x)$$"
   ]
  },
  {
   "cell_type": "code",
   "execution_count": 19,
   "metadata": {},
   "outputs": [],
   "source": [
    "fa_3 = lambda x: w3[0] + w3[1] * x + w3[2]*x*x + w3[3]*x*x*x"
   ]
  },
  {
   "cell_type": "code",
   "execution_count": 20,
   "metadata": {},
   "outputs": [
    {
     "data": {
      "image/png": "[encoded data removed]",
      "text/plain": [
       "<Figure size 432x288 with 1 Axes>"
      ]
     },
     "metadata": {
      "needs_background": "light"
     },
     "output_type": "display_data"
    }
   ],
   "source": [
    "fig = plt.subplots()\n",
    "x = np.linspace(0, 16, 100)\n",
    "plt.plot(x, fa_3(x))\n",
    "plt.plot(x, our_func(x))\n",
    "plt.show()"
   ]
  },
  {
   "cell_type": "markdown",
   "metadata": {},
   "source": [
    "#### все графики наглядно"
   ]
  },
  {
   "cell_type": "code",
   "execution_count": 21,
   "metadata": {},
   "outputs": [
    {
     "data": {
      "image/png": "[encoded data removed]",
      "text/plain": [
       "<Figure size 432x288 with 1 Axes>"
      ]
     },
     "metadata": {
      "needs_background": "light"
     },
     "output_type": "display_data"
    }
   ],
   "source": [
    "fig = plt.subplots()\n",
    "x = np.linspace(0, 16, 100)\n",
    "plt.plot(x, fa_1(x))\n",
    "plt.plot(x, fa_2(x))\n",
    "plt.plot(x, fa_3(x))\n",
    "plt.plot(x, our_func(x))\n",
    "plt.show()"
   ]
  },
  {
   "cell_type": "markdown",
   "metadata": {},
   "source": [
    "## Ответ"
   ]
  },
  {
   "cell_type": "markdown",
   "metadata": {},
   "source": [
    "### искомые коэффициэнты"
   ]
  },
  {
   "cell_type": "code",
   "execution_count": 22,
   "metadata": {},
   "outputs": [
    {
     "name": "stdout",
     "output_type": "stream",
     "text": [
      "4.36 -1.3 0.19 -0.01\n"
     ]
    }
   ],
   "source": [
    "w_0 = w3[0]\n",
    "w_1 = w3[1]\n",
    "w_2=w3[2]\n",
    "w_3=w3[3]\n",
    "print w_0.round(2), w_1.round(2), w_2.round(2), w_3.round(2)"
   ]
  },
  {
   "cell_type": "markdown",
   "metadata": {},
   "source": [
    "$$ w_0 = 4.36 $$\n",
    "$$ w_1 = -1.3 $$\n",
    "$$ w_2 = 0.19 $$\n",
    "$$ w_3 = -0.01 $$"
   ]
  },
  {
   "cell_type": "markdown",
   "metadata": {},
   "source": [
    "На приведенных графиках видно, что многочлен третьей степени неплохо аппроксимирует функцию.\n",
    "Графики близки на заданной области [1,15]\n",
    "Видно, что при увеличении степени многочлена аппроксимация лучше."
   ]
  },
  {
   "cell_type": "markdown",
   "metadata": {},
   "source": [
    "### запись в файл"
   ]
  },
  {
   "cell_type": "code",
   "execution_count": 23,
   "metadata": {},
   "outputs": [],
   "source": [
    "with open('task_second_answer.txt', 'w') as coefficients:\n",
    "    coefficients.write(str(w_0) + ' ' + str(w_1) + ' ' + str(w_2) + ' ' + str(w_3))"
   ]
  }
 ],
 "metadata": {
  "kernelspec": {
   "display_name": "Python 2.7.16 ('base')",
   "language": "python",
   "name": "python3"
  },
  "language_info": {
   "codemirror_mode": {
    "name": "ipython",
    "version": 2
   },
   "file_extension": ".py",
   "mimetype": "text/x-python",
   "name": "python",
   "nbconvert_exporter": "python",
   "pygments_lexer": "ipython2",
   "version": "2.7.16"
  },
  "vscode": {
   "interpreter": {
    "hash": "02bec81eb7abda00c1892cd9a67ebd1f5d8bbb52e885618613884d7cb3715ad3"
   }
  }
 },
 "nbformat": 4,
 "nbformat_minor": 2
}
